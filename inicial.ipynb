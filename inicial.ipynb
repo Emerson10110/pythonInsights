{
 "cells": [
  {
   "cell_type": "markdown",
   "metadata": {},
   "source": [
    "# Python Insights - Analisando Dados com Python\n",
    "\n",
    "### Case - Cancelamento de Clientes\n",
    "\n",
    "Você foi contratado por uma empresa com mais de 800 mil clientes para um projeto de Dados. Recentemente a empresa percebeu que da sua base total de clientes, a maioria são clientes inativos, ou seja, que já cancelaram o serviço.\n",
    "\n",
    "Precisando melhorar seus resultados ela quer conseguir entender os principais motivos desses cancelamentos e quais as ações mais eficientes para reduzir esse número.\n",
    "\n",
    "Base de dados e arquivos: https://drive.google.com/drive/folders/1uDesZePdkhiraJmiyeZ-w5tfc8XsNYFZ?usp=drive_link"
   ]
  },
  {
   "cell_type": "code",
   "execution_count": 3,
   "metadata": {},
   "outputs": [
    {
     "name": "stdout",
     "output_type": "stream",
     "text": [
      "Requirement already satisfied: pandas in c:\\users\\pc master\\appdata\\local\\programs\\python\\python312\\lib\\site-packages (2.2.3)\n",
      "Requirement already satisfied: numpy in c:\\users\\pc master\\appdata\\local\\programs\\python\\python312\\lib\\site-packages (2.1.2)\n",
      "Requirement already satisfied: openpyxl in c:\\users\\pc master\\appdata\\local\\programs\\python\\python312\\lib\\site-packages (3.1.5)\n",
      "Requirement already satisfied: nbformat in c:\\users\\pc master\\appdata\\local\\programs\\python\\python312\\lib\\site-packages (5.10.4)\n",
      "Requirement already satisfied: ipykernel in c:\\users\\pc master\\appdata\\roaming\\python\\python312\\site-packages (6.29.5)\n",
      "Requirement already satisfied: plotly in c:\\users\\pc master\\appdata\\local\\programs\\python\\python312\\lib\\site-packages (5.24.1)\n",
      "Requirement already satisfied: python-dateutil>=2.8.2 in c:\\users\\pc master\\appdata\\local\\programs\\python\\python312\\lib\\site-packages (from pandas) (2.9.0.post0)\n",
      "Requirement already satisfied: pytz>=2020.1 in c:\\users\\pc master\\appdata\\local\\programs\\python\\python312\\lib\\site-packages (from pandas) (2024.2)\n",
      "Requirement already satisfied: tzdata>=2022.7 in c:\\users\\pc master\\appdata\\local\\programs\\python\\python312\\lib\\site-packages (from pandas) (2024.2)\n",
      "Requirement already satisfied: et-xmlfile in c:\\users\\pc master\\appdata\\local\\programs\\python\\python312\\lib\\site-packages (from openpyxl) (1.1.0)\n",
      "Requirement already satisfied: fastjsonschema>=2.15 in c:\\users\\pc master\\appdata\\local\\programs\\python\\python312\\lib\\site-packages (from nbformat) (2.20.0)\n",
      "Requirement already satisfied: jsonschema>=2.6 in c:\\users\\pc master\\appdata\\local\\programs\\python\\python312\\lib\\site-packages (from nbformat) (4.23.0)\n",
      "Requirement already satisfied: jupyter-core!=5.0.*,>=4.12 in c:\\users\\pc master\\appdata\\roaming\\python\\python312\\site-packages (from nbformat) (5.7.2)\n",
      "Requirement already satisfied: traitlets>=5.1 in c:\\users\\pc master\\appdata\\roaming\\python\\python312\\site-packages (from nbformat) (5.14.3)\n",
      "Requirement already satisfied: comm>=0.1.1 in c:\\users\\pc master\\appdata\\roaming\\python\\python312\\site-packages (from ipykernel) (0.2.2)\n",
      "Requirement already satisfied: debugpy>=1.6.5 in c:\\users\\pc master\\appdata\\roaming\\python\\python312\\site-packages (from ipykernel) (1.8.6)\n",
      "Requirement already satisfied: ipython>=7.23.1 in c:\\users\\pc master\\appdata\\roaming\\python\\python312\\site-packages (from ipykernel) (8.28.0)\n",
      "Requirement already satisfied: jupyter-client>=6.1.12 in c:\\users\\pc master\\appdata\\roaming\\python\\python312\\site-packages (from ipykernel) (8.6.3)\n",
      "Requirement already satisfied: matplotlib-inline>=0.1 in c:\\users\\pc master\\appdata\\roaming\\python\\python312\\site-packages (from ipykernel) (0.1.7)\n",
      "Requirement already satisfied: nest-asyncio in c:\\users\\pc master\\appdata\\roaming\\python\\python312\\site-packages (from ipykernel) (1.6.0)\n",
      "Requirement already satisfied: packaging in c:\\users\\pc master\\appdata\\roaming\\python\\python312\\site-packages (from ipykernel) (24.1)\n",
      "Requirement already satisfied: psutil in c:\\users\\pc master\\appdata\\roaming\\python\\python312\\site-packages (from ipykernel) (6.0.0)\n",
      "Requirement already satisfied: pyzmq>=24 in c:\\users\\pc master\\appdata\\roaming\\python\\python312\\site-packages (from ipykernel) (26.2.0)\n",
      "Requirement already satisfied: tornado>=6.1 in c:\\users\\pc master\\appdata\\roaming\\python\\python312\\site-packages (from ipykernel) (6.4.1)\n",
      "Requirement already satisfied: tenacity>=6.2.0 in c:\\users\\pc master\\appdata\\local\\programs\\python\\python312\\lib\\site-packages (from plotly) (9.0.0)\n",
      "Requirement already satisfied: decorator in c:\\users\\pc master\\appdata\\roaming\\python\\python312\\site-packages (from ipython>=7.23.1->ipykernel) (5.1.1)\n",
      "Requirement already satisfied: jedi>=0.16 in c:\\users\\pc master\\appdata\\roaming\\python\\python312\\site-packages (from ipython>=7.23.1->ipykernel) (0.19.1)\n",
      "Requirement already satisfied: prompt-toolkit<3.1.0,>=3.0.41 in c:\\users\\pc master\\appdata\\roaming\\python\\python312\\site-packages (from ipython>=7.23.1->ipykernel) (3.0.48)\n",
      "Requirement already satisfied: pygments>=2.4.0 in c:\\users\\pc master\\appdata\\roaming\\python\\python312\\site-packages (from ipython>=7.23.1->ipykernel) (2.18.0)\n",
      "Requirement already satisfied: stack-data in c:\\users\\pc master\\appdata\\roaming\\python\\python312\\site-packages (from ipython>=7.23.1->ipykernel) (0.6.3)\n",
      "Requirement already satisfied: colorama in c:\\users\\pc master\\appdata\\roaming\\python\\python312\\site-packages (from ipython>=7.23.1->ipykernel) (0.4.6)\n",
      "Requirement already satisfied: attrs>=22.2.0 in c:\\users\\pc master\\appdata\\local\\programs\\python\\python312\\lib\\site-packages (from jsonschema>=2.6->nbformat) (24.2.0)\n",
      "Requirement already satisfied: jsonschema-specifications>=2023.03.6 in c:\\users\\pc master\\appdata\\local\\programs\\python\\python312\\lib\\site-packages (from jsonschema>=2.6->nbformat) (2024.10.1)\n",
      "Requirement already satisfied: referencing>=0.28.4 in c:\\users\\pc master\\appdata\\local\\programs\\python\\python312\\lib\\site-packages (from jsonschema>=2.6->nbformat) (0.35.1)\n",
      "Requirement already satisfied: rpds-py>=0.7.1 in c:\\users\\pc master\\appdata\\local\\programs\\python\\python312\\lib\\site-packages (from jsonschema>=2.6->nbformat) (0.20.0)\n",
      "Requirement already satisfied: platformdirs>=2.5 in c:\\users\\pc master\\appdata\\roaming\\python\\python312\\site-packages (from jupyter-core!=5.0.*,>=4.12->nbformat) (4.3.6)\n",
      "Requirement already satisfied: pywin32>=300 in c:\\users\\pc master\\appdata\\roaming\\python\\python312\\site-packages (from jupyter-core!=5.0.*,>=4.12->nbformat) (307)\n",
      "Requirement already satisfied: six>=1.5 in c:\\users\\pc master\\appdata\\local\\programs\\python\\python312\\lib\\site-packages (from python-dateutil>=2.8.2->pandas) (1.16.0)\n",
      "Requirement already satisfied: parso<0.9.0,>=0.8.3 in c:\\users\\pc master\\appdata\\roaming\\python\\python312\\site-packages (from jedi>=0.16->ipython>=7.23.1->ipykernel) (0.8.4)\n",
      "Requirement already satisfied: wcwidth in c:\\users\\pc master\\appdata\\roaming\\python\\python312\\site-packages (from prompt-toolkit<3.1.0,>=3.0.41->ipython>=7.23.1->ipykernel) (0.2.13)\n",
      "Requirement already satisfied: executing>=1.2.0 in c:\\users\\pc master\\appdata\\roaming\\python\\python312\\site-packages (from stack-data->ipython>=7.23.1->ipykernel) (2.1.0)\n",
      "Requirement already satisfied: asttokens>=2.1.0 in c:\\users\\pc master\\appdata\\roaming\\python\\python312\\site-packages (from stack-data->ipython>=7.23.1->ipykernel) (2.4.1)\n",
      "Requirement already satisfied: pure-eval in c:\\users\\pc master\\appdata\\roaming\\python\\python312\\site-packages (from stack-data->ipython>=7.23.1->ipykernel) (0.2.3)\n"
     ]
    },
    {
     "name": "stderr",
     "output_type": "stream",
     "text": [
      "\n",
      "[notice] A new release of pip is available: 24.0 -> 24.2\n",
      "[notice] To update, run: python.exe -m pip install --upgrade pip\n"
     ]
    }
   ],
   "source": [
    "# Passo 1: Import a base de dados\n",
    "# !pip install pandas numpy openpyxl nbformat ipykernel plotly\n",
    "import pandas\n",
    "\n",
    "tabela = pandas.read_csv(\"cancelamentos.csv\")\n",
    "print(tabela)"
   ]
  },
  {
   "cell_type": "code",
   "execution_count": null,
   "metadata": {},
   "outputs": [],
   "source": [
    "# Passo 2: Visualizar a base de dados\n",
    "    # Entender quais as informações eu tenho disponíveis\n",
    "    # Procurar os problemas/ as cagadas da base de dados\n",
    "# Passo 3: Corrigir as cagadas da base de dados\n",
    "# Passo 4: Analise dos cancelamentos (quantos cancelaram, quantos não cancelaram e qual o percentual)\n",
    "# Passo 5: Analise das causas dos cancelamentos do clientes"
   ]
  }
 ],
 "metadata": {
  "kernelspec": {
   "display_name": "Python 3",
   "language": "python",
   "name": "python3"
  },
  "language_info": {
   "codemirror_mode": {
    "name": "ipython",
    "version": 3
   },
   "file_extension": ".py",
   "mimetype": "text/x-python",
   "name": "python",
   "nbconvert_exporter": "python",
   "pygments_lexer": "ipython3",
   "version": "3.12.4"
  },
  "orig_nbformat": 4
 },
 "nbformat": 4,
 "nbformat_minor": 2
}
